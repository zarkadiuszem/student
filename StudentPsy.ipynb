{
  "nbformat": 4,
  "nbformat_minor": 0,
  "metadata": {
    "colab": {
      "provenance": [],
      "toc_visible": true
    },
    "kernelspec": {
      "name": "python3",
      "display_name": "Python 3"
    },
    "language_info": {
      "name": "python"
    }
  },
  "cells": [
    {
      "cell_type": "markdown",
      "source": [
        "<h1>Wybrane elementy programowania</h1>"
      ],
      "metadata": {
        "id": "h63K20mOipgR"
      }
    },
    {
      "cell_type": "markdown",
      "source": [
        "# Typy danych i zmienne"
      ],
      "metadata": {
        "id": "BWN8ymWDkD2s"
      }
    },
    {
      "cell_type": "markdown",
      "metadata": {
        "id": "U9Xl5sP6R6uW"
      },
      "source": [
        "## Integers typ int i tworzenie zmiennych\n",
        "(Int) Liczby całkowite 1, 10, -10"
      ]
    },
    {
      "cell_type": "code",
      "execution_count": null,
      "metadata": {
        "id": "slA1_2ChSIWT"
      },
      "outputs": [],
      "source": [
        "# to jest komentarz - tego komputer nie interpretuje\n",
        "\n",
        "my_number = 10 # tworzymy zmienną\n",
        "print(my_number)\n",
        "2+2\n",
        "wynik = my_number + my_number\n",
        "wynik\n",
        "wynik = my_number + wynik\n",
        "wynik = my_number + wynik\n",
        "wynik = wynik *10\n",
        "wynik # ostatni wynik też zwróci mimo, że nie ma print"
      ]
    },
    {
      "cell_type": "code",
      "execution_count": null,
      "metadata": {
        "id": "uQY5mKj8P_6K"
      },
      "outputs": [],
      "source": [
        "# Zmienne są niemutowalne\n",
        "# przypomnij sobie co rysowałem na tablicy\n",
        "a = 2\n",
        "b = a\n",
        "print(id(a))\n",
        "print(id(b))\n",
        "a = a + 1\n",
        "print(a, b)\n",
        "print(id(a))\n",
        "print(id(b))"
      ]
    },
    {
      "cell_type": "markdown",
      "metadata": {
        "id": "NiGCjB2JXXwe"
      },
      "source": [
        "## Floating point typ float\n",
        "<br>\n",
        "(liczby zmienno-przecinkowe)\n",
        "Np. 1.2, 34.5, -3.2"
      ]
    },
    {
      "cell_type": "code",
      "execution_count": null,
      "metadata": {
        "id": "0mK_eS8yXhWO"
      },
      "outputs": [],
      "source": [
        "print(3.2 / 3.4)\n",
        "my_float = 3.3\n",
        "print(type(my_float))\n",
        "print(my_float)"
      ]
    },
    {
      "cell_type": "markdown",
      "metadata": {
        "id": "Iz7JWx_qYbog"
      },
      "source": [
        "## Strings typ str - 3\n",
        "\n",
        "\n",
        "Ciągi znaków -\n",
        "Uporządkowana sekwencja symboli <br>\n",
        "\n",
        "'Hello World' \"2021\""
      ]
    },
    {
      "cell_type": "markdown",
      "metadata": {
        "id": "_RHVCRJ_Y0pm"
      },
      "source": [
        "INDEXY<br>\n",
        "A    n    a    k    o    n    d    a<br>\n",
        "0    1    2    3    4    5    6    7<br>\n",
        "-8  -7   -6   -5   -4   -3   -2   -1"
      ]
    },
    {
      "cell_type": "code",
      "execution_count": null,
      "metadata": {
        "id": "TM739hWcZmJv"
      },
      "outputs": [],
      "source": [
        "word = \"Anakonda\"\n",
        "word[0] # indeksy podajemy w nawiasach kwadratowych"
      ]
    },
    {
      "cell_type": "code",
      "execution_count": null,
      "metadata": {
        "id": "YtXTSDeCZt88"
      },
      "outputs": [],
      "source": [
        "word[-8]"
      ]
    },
    {
      "cell_type": "code",
      "execution_count": null,
      "metadata": {
        "id": "0eS09xPkZuuf"
      },
      "outputs": [],
      "source": [
        "len(word)"
      ]
    },
    {
      "cell_type": "code",
      "execution_count": null,
      "metadata": {
        "id": "a0MLHRZWaaFv"
      },
      "outputs": [],
      "source": [
        "imię = 'arek'\n",
        "nazwisko = 'kolodziej'"
      ]
    },
    {
      "cell_type": "code",
      "execution_count": null,
      "metadata": {
        "id": "-BIaInaOhEIS"
      },
      "outputs": [],
      "source": [
        "#konkatenacja (łączenie)\n",
        "osoba = imię + ' ' + nazwisko\n",
        "osoba"
      ]
    },
    {
      "cell_type": "markdown",
      "metadata": {
        "id": "7HbfQuy0WsG4"
      },
      "source": [
        "### Użycie wartości zmiennej w stringu"
      ]
    },
    {
      "cell_type": "code",
      "execution_count": null,
      "metadata": {
        "id": "y8WTFCZka8sG"
      },
      "outputs": [],
      "source": [
        "imię = \"XXX\"\n",
        "nazwisko = \"YYY\"\n",
        "prowadzący = f'Imię: {imię} \\nNazwisko: {nazwisko}'\n",
        "print(prowadzący)"
      ]
    },
    {
      "cell_type": "markdown",
      "metadata": {
        "id": "rABOT7A4ZbvY"
      },
      "source": [
        "## 8. Booleans typ bool\n",
        "wartości logiczne: True i False"
      ]
    },
    {
      "cell_type": "code",
      "execution_count": null,
      "metadata": {
        "id": "rQZZmuZCZacO",
        "colab": {
          "base_uri": "https://localhost:8080/"
        },
        "outputId": "ac5134c9-111a-437f-b474-a60e099d5e67"
      },
      "outputs": [
        {
          "output_type": "execute_result",
          "data": {
            "text/plain": [
              "True"
            ]
          },
          "metadata": {},
          "execution_count": 41
        }
      ],
      "source": [
        "a = True\n",
        "b = False\n",
        "a != b # a jest inne niż b"
      ]
    },
    {
      "cell_type": "markdown",
      "metadata": {
        "id": "O24MUmdeW8pW"
      },
      "source": [
        "## 4. Lists typ list - 4\n",
        "Uporządkowana sekwencja obiektów <br>\n",
        "['arek', 10, \"10\", 10.01, \"darek\"]"
      ]
    },
    {
      "cell_type": "code",
      "execution_count": null,
      "metadata": {
        "id": "Noo9UKp6XF4m"
      },
      "outputs": [],
      "source": [
        "list1 = [1,2.2,'arek',3,7]\n",
        "#nie używamy samego słowa list jako nazwy listy\n",
        "print(len(list1))\n",
        "print(list1[-1])\n",
        "#wycinanie działa tak jak na stringach\n",
        "list1[1:3]"
      ]
    },
    {
      "cell_type": "code",
      "execution_count": null,
      "metadata": {
        "id": "F04-EHVfXpZY"
      },
      "outputs": [],
      "source": [
        "a = ['arek','b','c','s',3.3,3]\n",
        "#nowa lista - arek ma index 0\n",
        "print(type(a))\n",
        "#zmiana elementu/ zastąpienie elementu\n",
        "a[0]='darek'\n",
        "print(a)\n",
        "#wybór elementu\n",
        "print(a[0])\n",
        "print(a[-1])\n",
        "print(a[1:3]) #do trzeciego bez trzeciego\n",
        "print(a[2:-1]) #do ostatniego ale bez ostatniego"
      ]
    },
    {
      "cell_type": "code",
      "execution_count": null,
      "metadata": {
        "id": "I2GQ_2nQYfmu"
      },
      "outputs": [],
      "source": [
        "a.append('zenek') #dodaje na koniec listy\n",
        "a"
      ]
    },
    {
      "cell_type": "markdown",
      "source": [
        "# Operatory"
      ],
      "metadata": {
        "id": "-8lLPE6rmzGC"
      }
    },
    {
      "cell_type": "markdown",
      "source": [
        "## Podstawowe operatory arytmetyczne"
      ],
      "metadata": {
        "id": "1JQQlK-1jAiq"
      }
    },
    {
      "cell_type": "code",
      "execution_count": null,
      "metadata": {
        "id": "mdASWsQwilvU"
      },
      "outputs": [],
      "source": [
        "print(2 + 2)\n",
        "print(2 - 2)\n",
        "print(2 / 2)\n",
        "print(2 * 2)\n",
        "print(2 ** 3) # potęga"
      ]
    },
    {
      "cell_type": "markdown",
      "source": [
        "## Podstawowe operatory logiczne"
      ],
      "metadata": {
        "id": "65YbBMypi1Ek"
      }
    },
    {
      "cell_type": "code",
      "execution_count": null,
      "metadata": {
        "id": "fvKBUg9fbtQp"
      },
      "outputs": [],
      "source": [
        "a = 'arek'\n",
        "b = 'marek'\n",
        "print(a == b and 2 != 3)\n",
        "print(a == b or 2 != 3)\n",
        "print(not(2 != 3))"
      ]
    },
    {
      "cell_type": "markdown",
      "source": [
        "## Operatory porównania"
      ],
      "metadata": {
        "id": "61FlV0y9nwCQ"
      }
    },
    {
      "cell_type": "code",
      "execution_count": null,
      "metadata": {
        "id": "wR-NoFeobUNx"
      },
      "outputs": [],
      "source": [
        "print(3 == 3) # czy 3 to 3?\n",
        "print(3 != 3)\n",
        "print(3 <= 3)\n",
        "print(3 > 3)"
      ]
    },
    {
      "cell_type": "markdown",
      "metadata": {
        "id": "cE_Ez3ld8QAq"
      },
      "source": [
        "# Instrukcja warunkowa if"
      ]
    },
    {
      "cell_type": "code",
      "execution_count": null,
      "metadata": {
        "id": "BBWl6-B58a4q"
      },
      "outputs": [],
      "source": [
        "name = 'arek1'\n",
        "if name == \"arek\": # czy tu jest True?\n",
        "  print(\"zapraszamy\") # jeśli tak to wykona się ta linijka\n",
        "else: # jeśli nie\n",
        "  print('do widzenia') # to wykona się ta\n",
        "# zwróć uwagę na wcięcia linii"
      ]
    },
    {
      "cell_type": "code",
      "execution_count": null,
      "metadata": {
        "id": "oACxGV7aDowY"
      },
      "outputs": [],
      "source": [
        "a = False\n",
        "if a:\n",
        "  print('prawda')\n",
        "elif not a:\n",
        "  print('fałsz')\n",
        "else:\n",
        "  print(\"fałsz2\")\n",
        "print(type(a))"
      ]
    },
    {
      "cell_type": "code",
      "execution_count": null,
      "metadata": {
        "id": "R9BkFFcX7XI7"
      },
      "outputs": [],
      "source": [
        "a = 20\n",
        "b = 30\n",
        "c = 30\n",
        "if a > b or b == c:\n",
        "  print(a)\n",
        "else:\n",
        "  print('to nie działa')"
      ]
    },
    {
      "cell_type": "markdown",
      "metadata": {
        "id": "lIRN9UbXJHn0"
      },
      "source": [
        "# Pętla for\n"
      ]
    },
    {
      "cell_type": "code",
      "execution_count": null,
      "metadata": {
        "id": "CiHtgxJa-H4k"
      },
      "outputs": [],
      "source": [
        "lista = [1,2,3,\"cztery\",5,6,7]\n",
        "for element in lista: # dla każdego elementu z listy\n",
        "  print(element) # wydrukuj element"
      ]
    },
    {
      "cell_type": "code",
      "execution_count": null,
      "metadata": {
        "id": "qSotrtU8GuGD"
      },
      "outputs": [],
      "source": [
        "numbers = [1,2,3,4,5,6,7]\n",
        "for i in numbers:\n",
        "  if i > 5:\n",
        "    print(i)"
      ]
    },
    {
      "cell_type": "code",
      "execution_count": null,
      "metadata": {
        "id": "bABuzGEcNGwf"
      },
      "outputs": [],
      "source": [
        "for letter in 'socjologia jest fajna':\n",
        "  if letter == 'g':\n",
        "    break # przerwij\n",
        "  print(letter)"
      ]
    },
    {
      "cell_type": "code",
      "execution_count": null,
      "metadata": {
        "id": "NHn13NL-Obb1"
      },
      "outputs": [],
      "source": [
        "numbers =[1,2,3,4,5,6,8,10,12]\n",
        "for i in numbers:\n",
        "  if i == 8:\n",
        "    continue # pomiń\n",
        "  else:\n",
        "    print(i)"
      ]
    },
    {
      "cell_type": "markdown",
      "metadata": {
        "id": "uqDKuG-8MqA0"
      },
      "source": [
        "## Pętla while\n",
        "dopóki spełniony jest warunek"
      ]
    },
    {
      "cell_type": "code",
      "execution_count": null,
      "metadata": {
        "id": "ySwVKpn8JcGs"
      },
      "outputs": [],
      "source": [
        "n = 5\n",
        "e = 2\n",
        "while e <= n:\n",
        "  print(e)\n",
        "  e = e + 1"
      ]
    },
    {
      "cell_type": "code",
      "source": [
        "liczba = 1\n",
        "while liczba <= 5:\n",
        "  i = 1\n",
        "  while i <= 5:\n",
        "    wynik = liczba * i\n",
        "    print(liczba, 'x', i, '=', wynik)\n",
        "    i = i+1\n",
        "  liczba += 1"
      ],
      "metadata": {
        "id": "1rwo0tpVZLbp"
      },
      "execution_count": null,
      "outputs": []
    },
    {
      "cell_type": "markdown",
      "metadata": {
        "id": "LI18qEy1foMl"
      },
      "source": [
        "# Funkcje\n",
        "dzielą kod na użyteczne części <br>\n",
        "Cżęść funkcji już jest wbudowanych a częściowo musimy sami zdefiniować"
      ]
    },
    {
      "cell_type": "code",
      "execution_count": null,
      "metadata": {
        "id": "uPusWszm4bwu"
      },
      "outputs": [],
      "source": [
        "def drukowanie():\n",
        "    print('Hej') # definiujemy funkcję\n",
        "\n",
        "drukowanie() # wywołujemy funkcję\n",
        "\n",
        "print(2+3)\n",
        "\n",
        "drukowanie() # wywołujemy funkcję bez argumentu drugi raz"
      ]
    },
    {
      "cell_type": "code",
      "execution_count": null,
      "metadata": {
        "id": "N-0VYAU9YJ0E"
      },
      "outputs": [],
      "source": [
        "def dodawanie(a,b):\n",
        "  suma = a+b\n",
        "  return suma\n",
        "\n",
        "c = dodawanie(2,3)\n",
        "print(f'to jest {c}')"
      ]
    },
    {
      "cell_type": "code",
      "execution_count": null,
      "metadata": {
        "id": "DCJXDp69gwNs"
      },
      "outputs": [],
      "source": [
        "def emoji(unicode):\n",
        "  return(unicode)\n",
        "c = emoji(\"\\U0001F60E\")\n",
        "print(f'Koniec {c}')"
      ]
    }
  ]
}